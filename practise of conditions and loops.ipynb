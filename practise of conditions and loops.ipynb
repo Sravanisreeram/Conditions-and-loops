{
 "cells": [
  {
   "cell_type": "code",
   "execution_count": 1,
   "metadata": {},
   "outputs": [
    {
     "name": "stdout",
     "output_type": "stream",
     "text": [
      "a is small\n"
     ]
    }
   ],
   "source": [
    "a=34\n",
    "b=54\n",
    "if a>b:\n",
    "    print(\"a is big\")\n",
    "else:\n",
    "    print(\"a is small\")\n"
   ]
  },
  {
   "cell_type": "code",
   "execution_count": null,
   "metadata": {},
   "outputs": [],
   "source": []
  },
  {
   "cell_type": "code",
   "execution_count": 31,
   "metadata": {},
   "outputs": [
    {
     "name": "stdout",
     "output_type": "stream",
     "text": [
      "b is small\n"
     ]
    }
   ],
   "source": [
    "a=45\n",
    "b=48\n",
    "if a==b:\n",
    "    print(\"a and b are same\")\n",
    "if a>b:\n",
    "    print(\"a is bigger\")\n",
    "else:\n",
    "    print(\"b is small\")"
   ]
  },
  {
   "cell_type": "code",
   "execution_count": 21,
   "metadata": {},
   "outputs": [
    {
     "name": "stdout",
     "output_type": "stream",
     "text": [
      "number0\n",
      "number neither even nor odd\n"
     ]
    }
   ],
   "source": [
    "num=int(input(\"number\"))\n",
    "if num==0:\n",
    "    print(\"number neither even nor odd\")\n",
    "elif num/2:\n",
    "    print(\"even number\")\n",
    "else:\n",
    "    print(\"odd number\")"
   ]
  },
  {
   "cell_type": "code",
   "execution_count": 25,
   "metadata": {},
   "outputs": [
    {
     "name": "stdout",
     "output_type": "stream",
     "text": [
      "number1200\n",
      "leap year\n"
     ]
    }
   ],
   "source": [
    "num=int(input(\"number\"))\n",
    "if num==0:\n",
    "    print(\"unknown\")\n",
    "if num/4:\n",
    "    print(\"leap year\")\n",
    "else:\n",
    "    print(\"not a leap year\")"
   ]
  },
  {
   "cell_type": "code",
   "execution_count": 29,
   "metadata": {},
   "outputs": [
    {
     "name": "stdout",
     "output_type": "stream",
     "text": [
      "marks35\n",
      "pass\n"
     ]
    }
   ],
   "source": [
    "num=int(input(\"marks\"))\n",
    "if num>=90:\n",
    "    print(\"first class\")\n",
    "elif num>=75:\n",
    "    print(\"second class\")\n",
    "elif num>=60:\n",
    "    print(\"third class\")\n",
    "elif num>=45:\n",
    "    print(\"fourth class\")\n",
    "elif num>=35:\n",
    "    print(\"pass\")\n",
    "else:\n",
    "    print(\"fail\")\n"
   ]
  },
  {
   "cell_type": "code",
   "execution_count": null,
   "metadata": {},
   "outputs": [],
   "source": [
    "#--------------Loops-----------------"
   ]
  },
  {
   "cell_type": "code",
   "execution_count": 6,
   "metadata": {},
   "outputs": [
    {
     "name": "stdout",
     "output_type": "stream",
     "text": [
      "Second class\n",
      "outstanding\n",
      "Below Average\n",
      "Below Average\n",
      "outstanding\n",
      "outstanding\n"
     ]
    }
   ],
   "source": [
    "a = [55,87,28,35,80,90]\n",
    "for i in a:\n",
    "    if i >=50 and i<80:\n",
    "        print('Second class')\n",
    "    elif i>=80 and i<=100:\n",
    "        print('outstanding')\n",
    "    else:\n",
    "        print('Below Average')\n",
    "        \n",
    "        \n",
    " #print(i)\n",
    "#print(a)"
   ]
  },
  {
   "cell_type": "code",
   "execution_count": 1,
   "metadata": {},
   "outputs": [
    {
     "name": "stdout",
     "output_type": "stream",
     "text": [
      "11\n",
      "12\n",
      "13\n",
      "14\n",
      "15\n",
      "16\n",
      "17\n",
      "18\n",
      "19\n",
      "20\n"
     ]
    }
   ],
   "source": [
    "i =10\n",
    "while i<20:\n",
    "    i=i+1\n",
    "    print(i)"
   ]
  },
  {
   "cell_type": "code",
   "execution_count": 14,
   "metadata": {},
   "outputs": [
    {
     "name": "stdout",
     "output_type": "stream",
     "text": [
      "bowbow\n",
      "meowmeow\n",
      "roarroar\n",
      "sravani not listed \n"
     ]
    }
   ],
   "source": [
    "a=['dog','cat','lion','sravani']\n",
    "for i in a:\n",
    "    if i=='dog':\n",
    "        print(\"bowbow\")\n",
    "    elif i=='cat':\n",
    "        print(\"meowmeow\")\n",
    "    elif i=='lion':\n",
    "        print(\"roarroar\")\n",
    "    else:\n",
    "        print(i,\"not listed \")\n",
    "  \n",
    "\n"
   ]
  },
  {
   "cell_type": "code",
   "execution_count": 18,
   "metadata": {},
   "outputs": [
    {
     "name": "stdout",
     "output_type": "stream",
     "text": [
      "sum is number\n",
      "sum is number\n",
      "sum is number\n",
      "sum is number\n"
     ]
    }
   ],
   "source": [
    "s=[7,8,9,10]\n",
    "for i in s:\n",
    "    j=i+1\n",
    "for j in s:\n",
    "    if i+j>10:\n",
    "        print('sum is number')\n",
    "    else:\n",
    "        print('sum is digit')"
   ]
  },
  {
   "cell_type": "code",
   "execution_count": null,
   "metadata": {},
   "outputs": [],
   "source": []
  },
  {
   "cell_type": "code",
   "execution_count": null,
   "metadata": {},
   "outputs": [],
   "source": []
  },
  {
   "cell_type": "code",
   "execution_count": null,
   "metadata": {},
   "outputs": [],
   "source": []
  },
  {
   "cell_type": "code",
   "execution_count": null,
   "metadata": {},
   "outputs": [],
   "source": []
  }
 ],
 "metadata": {
  "kernelspec": {
   "display_name": "Python 3",
   "language": "python",
   "name": "python3"
  },
  "language_info": {
   "codemirror_mode": {
    "name": "ipython",
    "version": 3
   },
   "file_extension": ".py",
   "mimetype": "text/x-python",
   "name": "python",
   "nbconvert_exporter": "python",
   "pygments_lexer": "ipython3",
   "version": "3.8.5"
  }
 },
 "nbformat": 4,
 "nbformat_minor": 4
}
